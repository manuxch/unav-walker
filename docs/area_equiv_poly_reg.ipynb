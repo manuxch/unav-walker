{
 "cells": [
  {
   "cell_type": "markdown",
   "id": "084e4a01-258e-4b6b-8fbc-9ba02e592d0d",
   "metadata": {},
   "source": [
    "# Cálculo de áreas equivalentes de polígonos regulares"
   ]
  },
  {
   "cell_type": "code",
   "execution_count": 16,
   "id": "42c67e55-9522-437a-9f4a-c92bf9ade314",
   "metadata": {},
   "outputs": [],
   "source": [
    "import sympy as sym"
   ]
  },
  {
   "cell_type": "code",
   "execution_count": 17,
   "id": "756e0775-611c-4791-b295-72db42d50fe3",
   "metadata": {},
   "outputs": [],
   "source": [
    "r, a, n = sym.symbols('r a n')"
   ]
  },
  {
   "cell_type": "markdown",
   "id": "70cd16e2-9af0-4713-aa88-842c979eb8f1",
   "metadata": {},
   "source": [
    "## Densidad para discos de diámetro 1 y masa 1"
   ]
  },
  {
   "cell_type": "code",
   "execution_count": 20,
   "id": "8d4419bf-2793-401b-a9dc-7a322a4dd2c1",
   "metadata": {},
   "outputs": [
    {
     "data": {
      "text/latex": [
       "$\\displaystyle \\frac{4.0}{\\pi}$"
      ],
      "text/plain": [
       "4.0/pi"
      ]
     },
     "execution_count": 20,
     "metadata": {},
     "output_type": "execute_result"
    }
   ],
   "source": [
    "dens = 1 / (sym.pi * (0.5)**2)\n",
    "dens"
   ]
  },
  {
   "cell_type": "code",
   "execution_count": 21,
   "id": "d70e98ac-cd42-4461-ba1a-7487210b3fb9",
   "metadata": {},
   "outputs": [
    {
     "data": {
      "text/latex": [
       "$\\displaystyle 1.27323954473516$"
      ],
      "text/plain": [
       "1.27323954473516"
      ]
     },
     "execution_count": 21,
     "metadata": {},
     "output_type": "execute_result"
    }
   ],
   "source": [
    "dens.evalf()"
   ]
  },
  {
   "cell_type": "markdown",
   "id": "4913139d-3596-4be6-99b7-bdb159d36e47",
   "metadata": {},
   "source": [
    "## Área de polígono regular de radio r y n lados\n",
    "\n",
    "$$ A  = \\frac{n r^2}{2} \\sin(\\dfrac{2 \\pi}{n}) $$"
   ]
  },
  {
   "cell_type": "code",
   "execution_count": 22,
   "id": "a454e1f7-aff2-4cbd-8aa2-823dd07966d8",
   "metadata": {},
   "outputs": [],
   "source": [
    "def pf(r, n):\n",
    "    return  n * r**2 / 2 * sym.sin(2 * sy.pi / n)"
   ]
  },
  {
   "cell_type": "markdown",
   "id": "57e005e4-4e19-4cf4-a829-2d57644cd1b7",
   "metadata": {},
   "source": [
    "### Área equivalente de triángulo"
   ]
  },
  {
   "cell_type": "code",
   "execution_count": 23,
   "id": "f0c823fc-9551-4d8b-8f24-7f2d057f57c0",
   "metadata": {},
   "outputs": [],
   "source": [
    "sol_3 = sy.solve(pf(r, 3) - sym.pi * (1/2)**2, r)"
   ]
  },
  {
   "cell_type": "code",
   "execution_count": 27,
   "id": "25ece7a8-ce44-494d-a2e7-c6e617c55f0b",
   "metadata": {},
   "outputs": [
    {
     "data": {
      "text/latex": [
       "$\\displaystyle 0.777560150778107$"
      ],
      "text/plain": [
       "0.777560150778107"
      ]
     },
     "execution_count": 27,
     "metadata": {},
     "output_type": "execute_result"
    }
   ],
   "source": [
    "sol_3[1]"
   ]
  },
  {
   "cell_type": "markdown",
   "id": "ae5d961f-9acf-4d08-a970-61a839b157f5",
   "metadata": {},
   "source": [
    "### Área equivalente de cuadrado"
   ]
  },
  {
   "cell_type": "code",
   "execution_count": 25,
   "id": "f436ac3c-fd8e-406e-aa7b-2a22ad03e278",
   "metadata": {},
   "outputs": [],
   "source": [
    "sol_4 = sy.solve(pf(r, 4) - sym.pi * (1/2)**2, r)"
   ]
  },
  {
   "cell_type": "code",
   "execution_count": 26,
   "id": "363259be-3bb3-4b1f-ba0b-14ea9b1a15d5",
   "metadata": {},
   "outputs": [
    {
     "data": {
      "text/latex": [
       "$\\displaystyle 0.62665706865775$"
      ],
      "text/plain": [
       "0.626657068657750"
      ]
     },
     "execution_count": 26,
     "metadata": {},
     "output_type": "execute_result"
    }
   ],
   "source": [
    "sol_4[1].evalf()"
   ]
  },
  {
   "cell_type": "code",
   "execution_count": null,
   "id": "38d921e2-412c-4576-811e-ef53cba7a869",
   "metadata": {},
   "outputs": [],
   "source": []
  }
 ],
 "metadata": {
  "kernelspec": {
   "display_name": "Python 3 (ipykernel)",
   "language": "python",
   "name": "python3"
  },
  "language_info": {
   "codemirror_mode": {
    "name": "ipython",
    "version": 3
   },
   "file_extension": ".py",
   "mimetype": "text/x-python",
   "name": "python",
   "nbconvert_exporter": "python",
   "pygments_lexer": "ipython3",
   "version": "3.12.2"
  }
 },
 "nbformat": 4,
 "nbformat_minor": 5
}
